{
 "cells": [
  {
   "cell_type": "code",
   "execution_count": null,
   "id": "a5ddd66c",
   "metadata": {},
   "outputs": [],
   "source": [
    "%%javascript\n",
    "MathJax.Hub.Config({\n",
    "    TeX: { equationNumbers: { autoNumber: \"AMS\" } }\n",
    "});"
   ]
  },
  {
   "cell_type": "markdown",
   "id": "c746934d",
   "metadata": {},
   "source": [
    "Import all the necessary library in the cell below"
   ]
  },
  {
   "cell_type": "code",
   "execution_count": 57,
   "id": "prepared-finding",
   "metadata": {},
   "outputs": [],
   "source": [
    "import numpy as np\n",
    "from numpy.linalg import solve\n",
    "from scipy.optimize import fsolve\n",
    "from scipy.integrate import odeint,quad\n",
    "import matplotlib.pyplot as plt\n",
    "import pandas as pd\n",
    "import seaborn as sns\n",
    "from sklearn.linear_model import LogisticRegression\n",
    "from sklearn.model_selection import train_test_split\n",
    "from sklearn.metrics import confusion_matrix, accuracy_score\n",
    "from sklearn.preprocessing import LabelBinarizer\n",
    "from sklearn.linear_model import LinearRegression"
   ]
  },
  {
   "cell_type": "code",
   "execution_count": 58,
   "id": "1811c293",
   "metadata": {},
   "outputs": [
    {
     "data": {
      "text/plain": [
       "'/home/user/Downloads/python friday'"
      ]
     },
     "execution_count": 58,
     "metadata": {},
     "output_type": "execute_result"
    }
   ],
   "source": [
    "pwd"
   ]
  },
  {
   "cell_type": "markdown",
   "id": "f8915504",
   "metadata": {},
   "source": [
    "**Problem 1**\n",
    "\n",
    "1- Load the titanic dataset from the seaborn package."
   ]
  },
  {
   "cell_type": "code",
   "execution_count": 59,
   "id": "27fe6013",
   "metadata": {},
   "outputs": [],
   "source": [
    "data=sns.load_dataset(\"titanic\")"
   ]
  },
  {
   "cell_type": "markdown",
   "id": "447328fa",
   "metadata": {},
   "source": [
    "2- how many columns in this dataset?"
   ]
  },
  {
   "cell_type": "code",
   "execution_count": 60,
   "id": "2a1d8f07",
   "metadata": {},
   "outputs": [
    {
     "data": {
      "text/plain": [
       "15"
      ]
     },
     "execution_count": 60,
     "metadata": {},
     "output_type": "execute_result"
    }
   ],
   "source": [
    "data.shape[1]"
   ]
  },
  {
   "cell_type": "markdown",
   "id": "b55917b4",
   "metadata": {},
   "source": [
    "3- list the names of all columns and describe the datatype of each column? "
   ]
  },
  {
   "cell_type": "code",
   "execution_count": 61,
   "id": "f78025c1",
   "metadata": {},
   "outputs": [
    {
     "name": "stdout",
     "output_type": "stream",
     "text": [
      "name of colums: Index(['survived', 'pclass', 'sex', 'age', 'sibsp', 'parch', 'fare',\n",
      "       'embarked', 'class', 'who', 'adult_male', 'deck', 'embark_town',\n",
      "       'alive', 'alone'],\n",
      "      dtype='object')\n",
      "<class 'pandas.core.frame.DataFrame'>\n",
      "RangeIndex: 891 entries, 0 to 890\n",
      "Data columns (total 15 columns):\n",
      " #   Column       Non-Null Count  Dtype   \n",
      "---  ------       --------------  -----   \n",
      " 0   survived     891 non-null    int64   \n",
      " 1   pclass       891 non-null    int64   \n",
      " 2   sex          891 non-null    object  \n",
      " 3   age          714 non-null    float64 \n",
      " 4   sibsp        891 non-null    int64   \n",
      " 5   parch        891 non-null    int64   \n",
      " 6   fare         891 non-null    float64 \n",
      " 7   embarked     889 non-null    object  \n",
      " 8   class        891 non-null    category\n",
      " 9   who          891 non-null    object  \n",
      " 10  adult_male   891 non-null    bool    \n",
      " 11  deck         203 non-null    category\n",
      " 12  embark_town  889 non-null    object  \n",
      " 13  alive        891 non-null    object  \n",
      " 14  alone        891 non-null    bool    \n",
      "dtypes: bool(2), category(2), float64(2), int64(4), object(5)\n",
      "memory usage: 80.6+ KB\n"
     ]
    }
   ],
   "source": [
    "print(\"name of colums:\", data.columns)\n",
    "data.info()"
   ]
  },
  {
   "cell_type": "markdown",
   "id": "6fa74819",
   "metadata": {},
   "source": [
    "4- Count the number of missing values in each column"
   ]
  },
  {
   "cell_type": "code",
   "execution_count": 62,
   "id": "b7b20810",
   "metadata": {},
   "outputs": [
    {
     "data": {
      "text/plain": [
       "survived         0\n",
       "pclass           0\n",
       "sex              0\n",
       "age            177\n",
       "sibsp            0\n",
       "parch            0\n",
       "fare             0\n",
       "embarked         2\n",
       "class            0\n",
       "who              0\n",
       "adult_male       0\n",
       "deck           688\n",
       "embark_town      2\n",
       "alive            0\n",
       "alone            0\n",
       "dtype: int64"
      ]
     },
     "execution_count": 62,
     "metadata": {},
     "output_type": "execute_result"
    }
   ],
   "source": [
    "data.isnull().sum()"
   ]
  },
  {
   "cell_type": "markdown",
   "id": "5b87c877",
   "metadata": {},
   "source": [
    "5- Clean the dataset by removing every record that contains a missing value? "
   ]
  },
  {
   "cell_type": "code",
   "execution_count": 63,
   "id": "def3d590",
   "metadata": {},
   "outputs": [],
   "source": [
    "data.drop(columns=['deck'], inplace =True)\n",
    "data.dropna(axis=0,inplace=True)"
   ]
  },
  {
   "cell_type": "markdown",
   "id": "890db3ea",
   "metadata": {},
   "source": [
    "6 - Compute the average age of females and males who survived? "
   ]
  },
  {
   "cell_type": "code",
   "execution_count": 64,
   "id": "1b94fd9b",
   "metadata": {},
   "outputs": [
    {
     "name": "stdout",
     "output_type": "stream",
     "text": [
      "27.62122159090909\n"
     ]
    }
   ],
   "source": [
    "m1=data.loc[(data['sex']=='female')|(data['sex']=='male')& (data['survived']==1)].age.mean()\n",
    "# m2=data.loc[(data['sex']=='male')& (data['survived']==1)].age.mean()\n",
    "print( m1)\n",
    "# print(\"The average of male is:\", m2)"
   ]
  },
  {
   "cell_type": "markdown",
   "id": "d655ac41",
   "metadata": {},
   "source": [
    "6 - Count how many people survived by age and sex. Display the result as DataFrame. "
   ]
  },
  {
   "cell_type": "code",
   "execution_count": 65,
   "id": "c3ced5b9",
   "metadata": {},
   "outputs": [
    {
     "data": {
      "text/html": [
       "<div>\n",
       "<style scoped>\n",
       "    .dataframe tbody tr th:only-of-type {\n",
       "        vertical-align: middle;\n",
       "    }\n",
       "\n",
       "    .dataframe tbody tr th {\n",
       "        vertical-align: top;\n",
       "    }\n",
       "\n",
       "    .dataframe thead th {\n",
       "        text-align: right;\n",
       "    }\n",
       "</style>\n",
       "<table border=\"1\" class=\"dataframe\">\n",
       "  <thead>\n",
       "    <tr style=\"text-align: right;\">\n",
       "      <th></th>\n",
       "      <th></th>\n",
       "      <th>survived</th>\n",
       "    </tr>\n",
       "    <tr>\n",
       "      <th>sex</th>\n",
       "      <th>age</th>\n",
       "      <th></th>\n",
       "    </tr>\n",
       "  </thead>\n",
       "  <tbody>\n",
       "    <tr>\n",
       "      <th rowspan=\"5\" valign=\"top\">female</th>\n",
       "      <th>0.75</th>\n",
       "      <td>2</td>\n",
       "    </tr>\n",
       "    <tr>\n",
       "      <th>1.00</th>\n",
       "      <td>2</td>\n",
       "    </tr>\n",
       "    <tr>\n",
       "      <th>2.00</th>\n",
       "      <td>2</td>\n",
       "    </tr>\n",
       "    <tr>\n",
       "      <th>3.00</th>\n",
       "      <td>1</td>\n",
       "    </tr>\n",
       "    <tr>\n",
       "      <th>4.00</th>\n",
       "      <td>5</td>\n",
       "    </tr>\n",
       "    <tr>\n",
       "      <th>...</th>\n",
       "      <th>...</th>\n",
       "      <td>...</td>\n",
       "    </tr>\n",
       "    <tr>\n",
       "      <th rowspan=\"5\" valign=\"top\">male</th>\n",
       "      <th>52.00</th>\n",
       "      <td>1</td>\n",
       "    </tr>\n",
       "    <tr>\n",
       "      <th>56.00</th>\n",
       "      <td>1</td>\n",
       "    </tr>\n",
       "    <tr>\n",
       "      <th>60.00</th>\n",
       "      <td>1</td>\n",
       "    </tr>\n",
       "    <tr>\n",
       "      <th>62.00</th>\n",
       "      <td>1</td>\n",
       "    </tr>\n",
       "    <tr>\n",
       "      <th>80.00</th>\n",
       "      <td>1</td>\n",
       "    </tr>\n",
       "  </tbody>\n",
       "</table>\n",
       "<p>103 rows × 1 columns</p>\n",
       "</div>"
      ],
      "text/plain": [
       "              survived\n",
       "sex    age            \n",
       "female 0.75          2\n",
       "       1.00          2\n",
       "       2.00          2\n",
       "       3.00          1\n",
       "       4.00          5\n",
       "...                ...\n",
       "male   52.00         1\n",
       "       56.00         1\n",
       "       60.00         1\n",
       "       62.00         1\n",
       "       80.00         1\n",
       "\n",
       "[103 rows x 1 columns]"
      ]
     },
     "execution_count": 65,
     "metadata": {},
     "output_type": "execute_result"
    }
   ],
   "source": [
    "data[data[\"survived\"]==1].groupby(by=[\"sex\",\"age\"]).count()[\"survived\"].to_frame()"
   ]
  },
  {
   "cell_type": "markdown",
   "id": "c2b3bb3e",
   "metadata": {},
   "source": [
    "7- Build a logistic regression model using the pclass, age, parch, sex, and fare columns as explanatory variables and the survived column as response variable"
   ]
  },
  {
   "cell_type": "code",
   "execution_count": 68,
   "id": "3efaaee3",
   "metadata": {},
   "outputs": [
    {
     "data": {
      "text/plain": [
       "LogisticRegression(random_state=0)"
      ]
     },
     "execution_count": 68,
     "metadata": {},
     "output_type": "execute_result"
    }
   ],
   "source": [
    "lb = LabelBinarizer()\n",
    "data.sex = lb.fit_transform(data.sex)\n",
    "data.sex.unique()\n",
    "X = data[[\"pclass\", \"age\", \"parch\",\"sex\",\"fare\"]].values.reshape(-1,5)\n",
    "y = data[\"survived\"].values.flatten()\n",
    "X_train, X_test, y_train, y_test = train_test_split(X, y, test_size = 0.25, random_state = 0)\n",
    "classifier = LogisticRegression(random_state = 0, multi_class='auto')\n",
    "classifier.fit(X_train, y_train)"
   ]
  },
  {
   "cell_type": "markdown",
   "id": "a24e015f",
   "metadata": {},
   "source": [
    "8- Measure its performance using accuracy score and display the confusion matrix. "
   ]
  },
  {
   "cell_type": "code",
   "execution_count": 69,
   "id": "fe043e7d",
   "metadata": {},
   "outputs": [
    {
     "name": "stdout",
     "output_type": "stream",
     "text": [
      "[[88 16]\n",
      " [19 55]]\n",
      "Accuracy: 0.8033707865168539\n"
     ]
    }
   ],
   "source": [
    "# Predicting the Test set results\n",
    "y_pred = classifier.predict(X_test)\n",
    "con_mat = confusion_matrix(y_test, y_pred)\n",
    "print(con_mat)\n",
    "print(\"Accuracy:\", accuracy_score(y_test, y_pred))"
   ]
  },
  {
   "cell_type": "markdown",
   "id": "c9cc0418",
   "metadata": {},
   "source": [
    "9- Interpret the result"
   ]
  },
  {
   "cell_type": "markdown",
   "id": "studied-trial",
   "metadata": {},
   "source": [
    "The confusion matrix shows that our model is accurate at 80% because out of the total of 104 males, our model can predict 88 males as males and 16 as females also out of 74 females our model can predict 55 as females and 19 as males. All in All our model can be used in approximating males or females who survived."
   ]
  },
  {
   "cell_type": "markdown",
   "id": "46e969f3",
   "metadata": {},
   "source": [
    "**Problem 2**\n",
    "\n",
    "Let assume we have the one dimensional process model\n",
    "\\begin{equation}\n",
    "x_i = \\alpha x_{i-1}+\\delta_i, \\text{ with }\\delta_i\\thicksim \\mathcal{N}(0,q^2),\\;\\; i = 1,\\cdots,N ,\n",
    "\\end{equation}\n",
    "and $x_0\\thicksim \\mathcal{N}(\\mu,r^2)$. Assume the data model is \n",
    "\n",
    "\\begin{equation}\n",
    "y_i = h_i x_{i}+\\epsilon_i, \\text{ with }\\epsilon_i\\thicksim \\mathcal{N}(0,s^2),\\;\\; i = 1,\\cdots,N ,\n",
    "\\end{equation}\n",
    "where\n",
    "$$\n",
    "h_i =\\begin{cases}\n",
    " 1, \\;\\;& i=&1,\\cdots,N_1\\\\\n",
    "0.1, & i=&N_1+1,\\cdots, N_2\\\\\n",
    "0.9, & i=&N_2+1,\\cdots,N\n",
    "\\end{cases}.\n",
    "$$\n",
    "Note that $N_1<N_2<N$.\n",
    "\n",
    "1- Write Python function called **Process** that takes $\\alpha, N, q, \\mu, r$ and return the array $x$ of the $x_i, i=0,\\cdots,N$."
   ]
  },
  {
   "cell_type": "code",
   "execution_count": 70,
   "id": "5e9de586",
   "metadata": {},
   "outputs": [],
   "source": [
    "def Process(al, N, q,mu,r):\n",
    "    x = np.zeros(N+1)\n",
    "    x[0] = np.random.normal(mu,r)\n",
    "    for i in range(1, N+1):\n",
    "        delta = np.random.normal(0, q)\n",
    "        x[i] = al*x[i-1] + delta\n",
    "        \n",
    "    return x"
   ]
  },
  {
   "cell_type": "markdown",
   "id": "926edbdd",
   "metadata": {},
   "source": [
    "2- Write Python function called **Data** that takes array $x$ of the $x_i$, $s, N_1, N_2, N$ and return the array $y$ of $y_i,i=1,\\cdots,N$"
   ]
  },
  {
   "cell_type": "code",
   "execution_count": 71,
   "id": "44f0b4ca",
   "metadata": {},
   "outputs": [],
   "source": [
    "def Data(x, s, N1,N2, N):\n",
    "    global h\n",
    "    h=np.ones(N)\n",
    "    h[N1+1:N2+1]=0.1*h[N1+1:N2+1]\n",
    "    h[N2+1:]=0.9*h[N2+1:]\n",
    "    for i in range(N):\n",
    "        y=h*x[1]+np.random.normal(0,s,N)\n",
    "#     y=np.empty(N)\n",
    "#     y[1:N1+1] = x[1:N1+1] + np.random.normal(0, s, N1)\n",
    "#     y[N1+1:N2+1] = 0.1*x[N1+1:N2+1] + np.random.normal(0, s, N2-N1)\n",
    "#     y[N2+1:N] = 0.9*x[N2+1:N] + np.random.normal(0, s, N-N2-1)\n",
    "    return y"
   ]
  },
  {
   "cell_type": "markdown",
   "id": "08114e2e",
   "metadata": {},
   "source": [
    "3- Write a program to plot the data on the same graph as the process model, for \\begin{equation}\n",
    "r = 0.1, q=0.4, s=0.9, \\mu = 0.01, h= 1, \\alpha = 0.8,N = 50,  N_1 = 20,  N_2 = 30\n",
    "\\end{equation}"
   ]
  },
  {
   "cell_type": "code",
   "execution_count": 79,
   "id": "769d1b0a",
   "metadata": {},
   "outputs": [
    {
     "data": {
      "image/png": "[encoded data removed]",
      "text/plain": [
       "<Figure size 432x288 with 1 Axes>"
      ]
     },
     "metadata": {
      "needs_background": "light"
     },
     "output_type": "display_data"
    }
   ],
   "source": [
    "# np.random.seed(42)\n",
    "x=Process(0.8, 50, 0.4,0.01,0.1)\n",
    "y=Data(Process(0.8, 50, 0.4,0.01,0.1), 0.9, 20,30, 50)\n",
    "# print(x)\n",
    "# print(y)\n",
    "\n",
    "plt.plot(np.arange(0, len(x)), x, label='x')\n",
    "plt.plot(np.arange(1, len(x)), y, label='y')\n",
    "plt.legend()\n",
    "plt.show()"
   ]
  },
  {
   "cell_type": "markdown",
   "id": "e991b9bd",
   "metadata": {},
   "source": [
    "4- Use the general formulas given for the Kalman filter to find the one dimensional formulas for\n",
    "\n",
    "\\begin{equation}\n",
    "\\mu_{1\\mid 0}, \\sigma_{1\\mid 0}, k_1, \\mu_{1\\mid 1},\\sigma_{1\\mid 1},\n",
    "\\end{equation}\n",
    "in term of $\\alpha, q,r,s,\\mu$ and $y_1$ (write the answer as markdown)"
   ]
  },
  {
   "cell_type": "markdown",
   "id": "occasional-circle",
   "metadata": {},
   "source": [
    "$$\\mu_{1|0}=\\alpha \\mu$$\n",
    "$$\\sigma_{1\\mid 0}=q+\\alpha^2 r$$\n",
    "$$k_1=(q+\\alpha^2 r)(q+\\alpha^2 r+s)^{-1}$$\n",
    "$$\\mu_{1\\mid 1}=\\alpha \\mu + (q+\\alpha^2 r)(q+\\alpha^2 r+s)^{-1}(y_1-\\alpha \\mu)$$\n",
    "$$\\sigma_{1\\mid 1}=(1-(q+\\alpha^2 r)(q+\\alpha^2 r+s)^{-1})(q+\\alpha^2 r)$$"
   ]
  },
  {
   "cell_type": "markdown",
   "id": "6deefef9",
   "metadata": {},
   "source": [
    "5- Using the general formulas given for the Kalman filter, write Python program to calculate\n",
    "\\begin{equation}\n",
    "\\mu_{i\\mid i-1}, \\sigma_{i\\mid i-1}, k_i, \\mu_{i\\mid i},\\sigma_{i\\mid i},\n",
    "\\end{equation}\n",
    "for $i=1,\\cdots, N$. Be sure to\n",
    "initialize the loop over $i$. Hint: I suggest using $\\text{mu\\_old}[i]$ for $\\mu_{i\\mid i-1}$, $\\text{sigma\\_old}[i]$ for $\\sigma_{i\\mid i-1}$, $\\text{mu\\_new}[i]$ for $\\mu_{i\\mid i}$, $\\text{sigma\\_new}[i]$ for $\\sigma_{i\\mid i}$"
   ]
  },
  {
   "cell_type": "code",
   "execution_count": 80,
   "id": "ebda13cb",
   "metadata": {},
   "outputs": [
    {
     "name": "stdout",
     "output_type": "stream",
     "text": [
      "forcasted are [ 0.008       0.24492669  0.62938904  0.90709919  1.28765003 -0.24547029\n",
      " -0.01886311 -0.06664233  0.58440566  0.42690144  0.75564924  0.05839649\n",
      "  1.06530343  0.36124946  0.70972062  1.05552501  1.05826454  0.61388082\n",
      "  0.81989714  1.39358655  0.75252625 -0.07340857  0.13861597  0.10603093\n",
      " -1.15962165 -0.56019268 -0.31465223  0.50919992 -0.06953134 -0.96892719\n",
      " -0.57481744 -0.15350843  0.32068757  0.3061746  -0.38438005  0.08634656\n",
      "  0.03343479  0.92181431  0.63378349  0.1701859   1.3560262   0.29769088\n",
      "  0.64124152  0.24157718  1.30951059  0.51448229  0.39910607  0.21783472\n",
      "  0.39966721  1.06363957] [0.464      0.62109091 0.45512456 0.45247106 0.45241568 0.45241452\n",
      " 0.4524145  0.4524145  0.4524145  0.4524145  0.4524145  0.4524145\n",
      " 0.4524145  0.4524145  0.4524145  0.4524145  0.4524145  0.4524145\n",
      " 0.4524145  0.4524145  0.4524145  0.4524145  0.67701282 0.80581407\n",
      " 0.87726252 0.91616665 0.93713604 0.94837671 0.95438455 0.95759054\n",
      " 0.95929991 0.96021092 0.47001087 0.46257571 0.46236718 0.46236125\n",
      " 0.46236108 0.46236108 0.46236108 0.46236108 0.46236108 0.46236108\n",
      " 0.46236108 0.46236108 0.46236108 0.46236108 0.46236108 0.46236108\n",
      " 0.46236108 0.46236108]\n",
      "filtred are [ 0.30615836  0.7867363   1.13387399  1.60956253 -0.30683786 -0.02357889\n",
      " -0.08330291  0.73050708  0.5336268   0.94456155  0.07299561  1.33162928\n",
      "  0.45156183  0.88715078  1.31940626  1.32283067  0.76735103  1.02487143\n",
      "  1.74198319  0.94065781 -0.09176072  0.17326996  0.13253866 -1.44952707\n",
      " -0.70024085 -0.39331529  0.6364999  -0.08691418 -1.21115898 -0.7185218\n",
      " -0.19188554  0.40085947  0.38271824 -0.48047507  0.10793319  0.04179348\n",
      "  1.15226789  0.79222936  0.21273237  1.69503275  0.3721136   0.8015519\n",
      "  0.30197148  1.63688823  0.64310287  0.49888259  0.2722934   0.49958401\n",
      "  1.32954947  1.19032115] [0.34545455 0.08613212 0.08198602 0.0818995  0.08189769 0.08189765\n",
      " 0.08189765 0.08189765 0.08189765 0.08189765 0.08189765 0.08189765\n",
      " 0.08189765 0.08189765 0.08189765 0.08189765 0.08189765 0.08189765\n",
      " 0.08189765 0.08189765 0.08189765 0.43283253 0.63408448 0.74572269\n",
      " 0.80651039 0.83927506 0.85683861 0.86622587 0.87123521 0.87390611\n",
      " 0.87532956 0.10939198 0.09777455 0.09744871 0.09743945 0.09743919\n",
      " 0.09743918 0.09743918 0.09743918 0.09743918 0.09743918 0.09743918\n",
      " 0.09743918 0.09743918 0.09743918 0.09743918 0.09743918 0.09743918\n",
      " 0.09743918 0.09743918]\n"
     ]
    }
   ],
   "source": [
    "def fs(al,N,q,N1,N2,r,mu,s):\n",
    "    mu_old=np.empty(N)\n",
    "    mu_new=np.empty(N)\n",
    "    k=np.empty(N+1)\n",
    "    sigma_new=np.empty(N)\n",
    "    sigma_old=np.empty(N)\n",
    "    mu_old[0]=al*mu\n",
    "    sigma_old[0]= q+r*al**2\n",
    "    k[0]=(q+r*al**2)*(q+r*al**2+s)**(-1)\n",
    "    sigma_new[0]=al*mu+(q+r*al**2)*(q+r*al**2+s)**(-1)*(1-al*mu)\n",
    "    mu_new[0]=(1-(q+r*al**2)*(q+r*al**2+s)**(-1))*(q+r*al**2)\n",
    "#     def h(i):\n",
    "#         if (i>=1 and i<N1+1):\n",
    "#             E=1\n",
    "#         elif (i>=N1+1 and i<N2+1):\n",
    "#             E=0.1\n",
    "#         else:\n",
    "#             E=0.9\n",
    "#         return E\n",
    "    \n",
    "    for i in range(1,N):\n",
    "        mu_old[i]=al*mu_new[i-1]\n",
    "        sigma_old[i]=q+al*sigma_new[i-1]*al\n",
    "        k[i]=sigma_old[i]*h[i]*(h[i]*sigma_old[i]*h[i]+r)**(-1)\n",
    "        mu_new[i]=mu_old[i]+k[i]*(y[i]-h[i]*mu_old[i])\n",
    "        sigma_new[i]=(1-k[i]*h[i])*sigma_old[i]\n",
    "        \n",
    "    return mu_new ,sigma_new, mu_old, sigma_old\n",
    "mu_new, sigma_new, mu_old, sigma_old= fs(0.8,50,0.4,20,30,0.1,0.01,0.9) \n",
    "print(\"forcasted are\",mu_old, sigma_old)\n",
    "print(\"filtred are\",mu_new, sigma_new)"
   ]
  },
  {
   "cell_type": "markdown",
   "id": "8b9f5d18",
   "metadata": {},
   "source": [
    "6- Write a Python program to plot the states $x_i$ and data $y_i$ together with the filtered and forecasted estimates on the same graph."
   ]
  },
  {
   "cell_type": "code",
   "execution_count": 81,
   "id": "c868fdb6",
   "metadata": {},
   "outputs": [
    {
     "data": {
      "image/png": "[encoded data removed]",
      "text/plain": [
       "<Figure size 432x288 with 1 Axes>"
      ]
     },
     "metadata": {
      "needs_background": "light"
     },
     "output_type": "display_data"
    }
   ],
   "source": [
    "plt.plot(np.arange(1,len(x)),np.random.normal(mu_old,sigma_old), label='forcasted')\n",
    "plt.plot(np.arange(1,len(x)),np.random.normal(mu_new,sigma_new),label='filtred')\n",
    "plt.plot(np.arange(0,len(x)),x,label='x')\n",
    "plt.plot(np.arange(1,len(x)),y, label='y')\n",
    "plt.legend()\n",
    "\n",
    "plt.show()"
   ]
  },
  {
   "cell_type": "markdown",
   "id": "908e0240",
   "metadata": {},
   "source": [
    "**Problem 3**\n",
    "\n",
    "1- Let $\\{ x_k\\}$ be a partition of $[a,b]$ such that $a=x_1<\\cdots<x_{N-1}<x_N=b$ and $H$ be the length of the $k$-th subinterval ($H = x_k - x_{k-1}$),\n",
    "then we have \n",
    "$$\\int_a^bf(x)dx \\approx \\sum_{k=1}^N \\frac{f(x_{k-1})+f(x_k)}{2}H = Z$$\n",
    "\n",
    "\n",
    "Write a function named <b>Trap</b> that takes $a,b,N, f$ as inputs and return Z. Here, ``N = 50`` is the default value."
   ]
  },
  {
   "cell_type": "code",
   "execution_count": 100,
   "id": "cff4115d",
   "metadata": {},
   "outputs": [],
   "source": [
    "def Trap(a,b,N,f):\n",
    "    H=(b-a)/(N-1)\n",
    "    x=np.linspace(a,b,N)\n",
    "    Z=0\n",
    "    for k in range(1,N):\n",
    "        Z+=H*(f(x[k-1])+f(x[k]))/2\n",
    "    return Z"
   ]
  },
  {
   "cell_type": "markdown",
   "id": "6d455ed2",
   "metadata": {},
   "source": [
    "2- Let $m_k$  be the midpoint of the subinterval $[x_k,x_{k+1}]$ for all $k=1,\\cdots,N-1$, we have \n",
    "\n",
    "$$\\int_a^bf(x)dx \\approx \\sum_{m_k} f(m_{k})H = W$$\n",
    "\n",
    "Write a function named <b>Mid</b> that takes $a,b,N, f$ as inputs and return W. Here, ``N = 50`` is the default value."
   ]
  },
  {
   "cell_type": "code",
   "execution_count": 101,
   "id": "f1648d52",
   "metadata": {},
   "outputs": [],
   "source": [
    "def MId(a,b,N,f):\n",
    "    H=(b-a)/(N-1)\n",
    "    x=np.linspace(a,b,N)\n",
    "    W=0\n",
    "    for k in range (0,N-1):\n",
    "        m=(x[k]+x[k+1])/2\n",
    "        W+=H*f(m)\n",
    "    return W"
   ]
  },
  {
   "cell_type": "markdown",
   "id": "dec53d7f",
   "metadata": {},
   "source": [
    "3- Using **Trap, Mid** and python inbuilt function **odeint**, compute and display the integral \n",
    "\n",
    "$$A = \\int_0^{\\sqrt{\\ln(2)}}xe^{x^2}dx$$"
   ]
  },
  {
   "cell_type": "code",
   "execution_count": 102,
   "id": "066f0a44",
   "metadata": {},
   "outputs": [
    {
     "name": "stdout",
     "output_type": "stream",
     "text": [
      "Trap A= 0.5000907539443507\n",
      "MId A= 0.49995462506586774\n",
      "quad A= 0.4999999999999998\n"
     ]
    }
   ],
   "source": [
    "f=lambda x: x*np.exp(x**2)\n",
    "A=quad(f,0,(np.log(2))**0.5)[0]\n",
    "print(\"Trap A=\", Trap(0,(np.log(2))**0.5,50,f))\n",
    "print(\"MId A=\", MId(0,(np.log(2))**0.5,50,f))\n",
    "print(\"quad A=\", A)"
   ]
  },
  {
   "cell_type": "markdown",
   "id": "b4578b37",
   "metadata": {},
   "source": [
    "4- After computing the exact value of $A$, write a Python program that searches for the minimun values $N_{Trap}, N_{Mid}$ less than 10000 such that **Trap, Mid**, respectively, give a better approximation of $A$ then **odeint**.  If any the value  $ N_{Trap}, N_{Mid}$ doesn't exist your program should print the string **No $N_{Trap}$ found** or **No $N_{Mid}$ found**, respectively."
   ]
  },
  {
   "cell_type": "code",
   "execution_count": 104,
   "id": "70a07efc",
   "metadata": {},
   "outputs": [
    {
     "name": "stdout",
     "output_type": "stream",
     "text": [
      "No Ntrap Found\n",
      "No N_MId Found\n"
     ]
    }
   ],
   "source": [
    "N_Trap=9000\n",
    "E_Trap=abs(0.5-Trap(0,(np.log(2))**0.5,N_Trap,f))\n",
    "while N_Trap<10000 and E_Trap>=abs(0.5-A):\n",
    "    N_Trap +=1\n",
    "    E_Trap=abs(0.5-Trap(0,(np.log(2))**0.5,N_Trap,f))\n",
    "if N_Trap>=10000:\n",
    "    print(\"No Ntrap Found\")\n",
    "else:\n",
    "    print(\"N_Trap=\",N_Trap)\n",
    "\n",
    "        \n",
    "N_MId=9000\n",
    "E_MId=abs(0.5-MId(0,(np.log(2))**0.5,N_MId,f))\n",
    "while N_MId<10000 and E_MId>=abs(0.5-A):\n",
    "    N_MId+=1\n",
    "    E_MId=abs(0.5-MId(0,(np.log(2))**0.5,N_MId,f))\n",
    "if N_MId>=10000:\n",
    "    print(\"No N_MId Found\")\n",
    "else:\n",
    "    print(\"N_Mid=\",N_MId)\n",
    "        "
   ]
  },
  {
   "cell_type": "markdown",
   "id": "87059133",
   "metadata": {},
   "source": [
    "**Problem 4**\n",
    "\n",
    "Let $\\{ t_k\\}$ be a partition of $[a,b]$ such that $a=t_0<t_2<\\cdots<t_{N}=b$ and $H$ be the constant length of the $k$-th subinterval ($H = t_k - t_{k-1}$). Let us consider initial value problem\n",
    "\n",
    "\\begin{equation}\\label{eul2}\n",
    "  \\begin{cases}\n",
    "    \\dfrac{dz}{dt} = f(z,t),      & \\quad \\text{on } [a, b]\\\\\\\\\n",
    "    z(a) = c,\n",
    "  \\end{cases}\n",
    "\\end{equation}\n",
    "where $z,f,c\\in R^M$ i.e. $z = [x_1, x_2,\\cdots, x_{M}]$, $c = [x_1(a), x_2(a),\\cdots, x_{M}(a)]$ and $f = [f_1, f_2,\\cdots, f_{M}]$. Note that \\eqref{eul2} is a the general form of system of ODEs. \n",
    "\n",
    "Let $t, z_k,Z$ defined as follows $$t=[t_0,t_2,\\cdots,t_{N-1},t_{N}],\\quad z_k = [x_1(t_k), x_2(t_k),\\cdots, x_{M}(t_k)], \\quad\n",
    "Z =\\begin{pmatrix}\n",
    "x_1(t_0)& x_2(t_0)&\\cdots& x_{M}(t_0)\\\\\n",
    "x_1(t_1)& x_2(t_1)&\\cdots& x_{M}(t_1)\\\\\n",
    "x_1(t_2)& x_2(t_2)&\\cdots& x_{M}(t_2)\\\\\n",
    "\\vdots& \\vdots&\\ddots& \\vdots\\\\\n",
    "x_1(t_{N})& x_2(t_{N})&\\cdots& x_{M}(t_{N})\n",
    "\\end{pmatrix}\n",
    "$$\n",
    "\n",
    "1. Write a python function <b> EulerOdeSys </b> that takes $f,c,t$ and return the solution $Z$ of the initial value problem \\eqref{eul2} using Euler method i.e.\n",
    "$$ z_{k+1} = z_k + Hf(z_k,t_k) $$\n"
   ]
  },
  {
   "cell_type": "code",
   "execution_count": 86,
   "id": "9f47dc22",
   "metadata": {},
   "outputs": [],
   "source": [
    "def EulerOdeSys(f,c,t):\n",
    "    H = (t[1]-t[0]) \n",
    "    z = np.zeros((len(t),len(c)))\n",
    "    z[0] = c\n",
    "    for i in range(len(t)-1):\n",
    "            z[i+1]= z[i] + H*f(z[i],t[i])\n",
    "    return z"
   ]
  },
  {
   "cell_type": "markdown",
   "id": "dd1978b2",
   "metadata": {},
   "source": [
    "2. Write a python function <b> RalstonOdeSys </b> that takes $f,c,t$ and return the solution $Z$ of the initial value problem (1) using the Ralston method i.e.\n",
    "\n",
    "\\begin{equation}\n",
    "\\begin{cases}\n",
    "k_1 = f(z_k,t_k),\\\\\\\\\n",
    "k_2 = f(z_k+\\dfrac{2}{3}Hk_1, t_k + \\dfrac{2}{3}H),\\\\\\\\\n",
    "z_{k+1} = z_k + H(\\dfrac{1}{4}k_1+\\dfrac{3}{4}k_2)\n",
    "\\end{cases}\n",
    "\\end{equation}\n"
   ]
  },
  {
   "cell_type": "code",
   "execution_count": 87,
   "id": "641387c4",
   "metadata": {},
   "outputs": [],
   "source": [
    "def RalstonOdeSys(f,c,t):\n",
    "    H = (t[1]-t[0]) \n",
    "    z = np.ones((len(t),len(c)))\n",
    "    z[0] = c\n",
    "    for k in range(len(t)-1):\n",
    "            k_1=f(z[k],t[k])\n",
    "            k_2=f(z[k]+(2/3)*H*k_1,t[k]+(2/3)*H)\n",
    "            z[k+1]= z[k] + H*(0.25*k_1+0.75*k_2)\n",
    "    return z"
   ]
  },
  {
   "cell_type": "markdown",
   "id": "21b27a01",
   "metadata": {},
   "source": [
    "**Problem 5**\n",
    "\n",
    "Let $\\{ x_k\\}$ be a partition of $[a,b]$ such that $a=x_0<\\cdots<x_{N-1}<x_{N}=b$ and $H$ be the constant length of the $k$-th subinterval ($H = x_k - x_{k-1}$). Let consider the second-order differential equation\n",
    "\n",
    "\\begin{equation}\n",
    "  \\begin{cases}\n",
    "   \\dfrac{d^2 y}{dx^2} + \\dfrac{d y}{dx}-6y = 0 \\qquad\\forall x\\in [a,b]\\\\\\\\\n",
    "\\dfrac{d y}{dx}(a)=0 , y(a) = 1\n",
    "  \\end{cases}\n",
    "\\end{equation}\n",
    "\n",
    "Let $\\{ y_k\\}$ be the approximate solution i.e.  $y_k\\approx g(x_k)=g_k$ where $g(x) = \\dfrac{3}{5}e^{2x}+ \\dfrac{2}{5}e^{-3x}$ is the exact solution. Let us denote $e_k = \\mid g_k - y_k\\mid$\n",
    "\n",
    "1- Using the Python in-built function **odeint**, write a python function <b> SODE </b> that takes $a,b,N$ (with $N= 100$ as default value) and return array of all $x_k$, $y_k$, $g_k$ and $e_k$.\n"
   ]
  },
  {
   "cell_type": "code",
   "execution_count": 89,
   "id": "7248a60a",
   "metadata": {},
   "outputs": [],
   "source": [
    "def f(w,x):\n",
    "    y,v=w\n",
    "    dydx=v\n",
    "    dvdx=6*y-v\n",
    "    return np.array([dydx,dvdx])\n",
    "\n",
    "def SODE(a,b,N):\n",
    "    w0=[1,0]\n",
    "    g=lambda x: 0.6*np.exp(2*x)+0.4*np.exp(-3*x)\n",
    "    x=np.linspace(a,b,N+1)\n",
    "    w=odeint(f,w0,x)\n",
    "    y=w[:,0]\n",
    "    return x,y,g(x),abs(y-g(x))"
   ]
  },
  {
   "cell_type": "markdown",
   "id": "389319fe",
   "metadata": {},
   "source": [
    "2- Using **SODE**, solve the second-order differential equation for $a = 0, b = 2$ and use subplot to plot side by side\n",
    "- $y_k$ and $g_k$ vs $x_k$\n",
    "- $e_k$ vs $x_k$"
   ]
  },
  {
   "cell_type": "code",
   "execution_count": 90,
   "id": "594e6677",
   "metadata": {},
   "outputs": [
    {
     "name": "stdout",
     "output_type": "stream",
     "text": [
      "y= [ 1.          1.00119228  1.00474041  1.01060619  1.01875767  1.02916894\n",
      "  1.04182002  1.05669662  1.07379002  1.09309695  1.11461947  1.13836486\n",
      "  1.16434554  1.19257899  1.22308771  1.25589914  1.29104568  1.32856462\n",
      "  1.36849814  1.41089334  1.45580224  1.5032818   1.55339395  1.60620566\n",
      "  1.66178899  1.72022116  1.78158464  1.84596721  1.91346212  1.98416813\n",
      "  2.05818972  2.13563714  2.21662663  2.30128053  2.38972748  2.48210257\n",
      "  2.57854756  2.67921107  2.78424883  2.89382383  3.00810667  3.12727573\n",
      "  3.25151747  3.38102672  3.51600699  3.65667073  3.80323971  3.95594534\n",
      "  4.11502904  4.28074259  4.45334855  4.63312066  4.82034428  5.01531682\n",
      "  5.21834823  5.42976144  5.64989296  5.87909331  6.11772764  6.3661763\n",
      "  6.62483542  6.89411756  7.17445235  7.46628719  7.77008795  8.08633971\n",
      "  8.41554754  8.7582373   9.11495648  9.48627506  9.87278645 10.27510841\n",
      " 10.69388403 11.1297828  11.58350162 12.05576595 12.54733097 13.05898277\n",
      " 13.59153962 14.14585325 14.72281027 15.3233335  15.94838354 16.59896024\n",
      " 17.27610433 17.98089904 18.71447191 19.47799655 20.27269446 21.09983707\n",
      " 21.96074776 22.85680396 23.78943933 24.76014607 25.77047735 26.82204975\n",
      " 27.91654583 29.05571685 30.24138559 31.47544925 32.75988246]\n"
     ]
    },
    {
     "data": {
      "image/png": "[encoded data removed]",
      "text/plain": [
       "<Figure size 1080x216 with 2 Axes>"
      ]
     },
     "metadata": {
      "needs_background": "light"
     },
     "output_type": "display_data"
    }
   ],
   "source": [
    "SODE(0,2,100)\n",
    "x=SODE(0,2,100)[0]\n",
    "y=SODE(0,2,100)[1]\n",
    "e=SODE(0,2,100)[3]\n",
    "print('y=',y)\n",
    "plt.figure(figsize=(15, 3))\n",
    "\n",
    "plt.subplot(1,2,2)\n",
    "plt.plot(x,e,label='error')\n",
    "plt.xlabel('x')\n",
    "plt.ylabel('error')\n",
    "plt.legend()\n",
    "\n",
    "plt.subplot(1,2,1)\n",
    "plt.plot(x,y,'--c',label='approximative solution')\n",
    "plt.plot(x,g(x), 'r',label='exact solution')\n",
    "plt.xlabel('x')\n",
    "plt.ylabel('y')\n",
    "plt.legend()\n",
    "\n",
    "plt.show()"
   ]
  },
  {
   "cell_type": "markdown",
   "id": "a8069746",
   "metadata": {},
   "source": [
    "3- Using <b> RalstonOdeSys </b>, solve the second-order differential equation for $a = 0, b = 2$ and use subplot to plot side by side\n",
    "- $y_k$ and $g_k$ vs $x_k$\n",
    "- $e_k$ vs $x_k$"
   ]
  },
  {
   "cell_type": "code",
   "execution_count": 91,
   "id": "39175089",
   "metadata": {},
   "outputs": [
    {
     "data": {
      "image/png": "[encoded data removed]",
      "text/plain": [
       "<Figure size 1080x216 with 2 Axes>"
      ]
     },
     "metadata": {
      "needs_background": "light"
     },
     "output_type": "display_data"
    }
   ],
   "source": [
    "c=np.array([1,0])\n",
    "N=100\n",
    "w=RalstonOdeSys(f,c,x)\n",
    "\n",
    "plt.figure(figsize=(15, 3))\n",
    "\n",
    "plt.subplot(1,2,2)\n",
    "plt.plot(x,abs(w[:,0]-g(x)),label='error')\n",
    "plt.xlabel('x')\n",
    "plt.ylabel('error')\n",
    "plt.legend()\n",
    "\n",
    "plt.subplot(1,2,1)\n",
    "plt.plot(x,w[:,0],'--c',label='approximative solution')\n",
    "plt.plot(x,g(x), 'r',label='exact solution')\n",
    "plt.xlabel('x')\n",
    "plt.ylabel('y')\n",
    "plt.legend()\n",
    "\n",
    "plt.show()"
   ]
  },
  {
   "cell_type": "markdown",
   "id": "af61af39",
   "metadata": {},
   "source": [
    "4- Using <b> EulerOdeSys </b>, solve the second-order differential equation for $a = 0, b = 2$ and use subplot to plot side by side\n",
    "- $y_k$ and $g_k$ vs $x_k$\n",
    "- $e_k$ vs $x_k$"
   ]
  },
  {
   "cell_type": "code",
   "execution_count": 92,
   "id": "6b842f4a",
   "metadata": {},
   "outputs": [
    {
     "data": {
      "image/png": "[encoded data removed]",
      "text/plain": [
       "<Figure size 1080x216 with 2 Axes>"
      ]
     },
     "metadata": {
      "needs_background": "light"
     },
     "output_type": "display_data"
    }
   ],
   "source": [
    "c=np.array([1,0])\n",
    "N=100\n",
    "w= EulerOdeSys(f,c,x)\n",
    "\n",
    "plt.figure(figsize=(15, 3))\n",
    "\n",
    "plt.subplot(1,2,2)\n",
    "plt.plot(x,abs(w[:,0]-g(x)),label='error')\n",
    "plt.xlabel('x')\n",
    "plt.ylabel('error')\n",
    "plt.legend()\n",
    "\n",
    "plt.subplot(1,2,1)\n",
    "plt.plot(x,w[:,0],'--c',label='approximative solution')\n",
    "plt.plot(x,g(x), 'r',label='exact solution')\n",
    "plt.xlabel('x')\n",
    "plt.ylabel('y')\n",
    "plt.legend()\n",
    "\n",
    "plt.show()"
   ]
  },
  {
   "cell_type": "markdown",
   "id": "5ac35f5c",
   "metadata": {},
   "source": [
    "5- The L2 error, $L2Er$ between the exact and the approximate solution given by\n",
    "\n",
    "$$L2Er = \\sum_0^N H(y_k - g_k)^2$$\n",
    "\n",
    "\n",
    "Write a function called **L2_error** that takes $a,b,H$ and return the L2 error $g_k$ and the approximate solution $y_k$ obtained using **Odeint**, **RalstonOdeSys** and **EulerOdeSys**."
   ]
  },
  {
   "cell_type": "code",
   "execution_count": 93,
   "id": "3fe20332",
   "metadata": {},
   "outputs": [],
   "source": [
    "def L2_error(a,b,H):\n",
    "    N=int((b-a)/H)+1\n",
    "    x,y,g,er=SODE(a,b,N)\n",
    "    yR=RalstonOdeSys(f,c,x)\n",
    "    yE=EulerOdeSys(f,c,x)\n",
    "    g=0.6*np.exp(2*x)+0.4*np.exp(-3*x)\n",
    "    L2Er_SODE=H*(y-g)**2\n",
    "    L2Er_Ral=H*(yR[:,0]-g)**2\n",
    "    L2Er_Eul=H*(yE[:,0]-g)**2\n",
    "    return np.array([sum(L2Er_SODE),sum(L2Er_Ral),sum(L2Er_Eul)]),g,y,yR[:,0],yE[:,0]\n",
    "    "
   ]
  },
  {
   "cell_type": "markdown",
   "id": "f8773444",
   "metadata": {},
   "source": [
    "6- Let us denote $L2Er_j$ the output of **L2_error** for a given argument $a,b,H_j$. Using **Odeint**, **RalstonOdeSys** and **EulerOdeSys**, compute the array of $L2Er_j$ for $a = 0, b=2$ and $H_j$ in an array $L =[ 10^{-1}, 10^{-2}, 10^{-3}, 10^{-4}]$."
   ]
  },
  {
   "cell_type": "code",
   "execution_count": 94,
   "id": "acc3a81d",
   "metadata": {},
   "outputs": [
    {
     "name": "stdout",
     "output_type": "stream",
     "text": [
      "Error SODE [1.93701711e-13 1.36111088e-13 1.30235608e-13 1.74530062e-13]\n",
      "Error Ral [1.19964025e-01 1.45959757e-05 1.48573453e-09 1.48833781e-13]\n",
      "Error Euler [2.35112246e+01 3.22001333e-01 3.34222840e-03 3.35493833e-05]\n"
     ]
    }
   ],
   "source": [
    "Hj=np.array([10**(-1),10**(-2),10**(-3),10**(-4)])\n",
    "L2Erj=np.zeros((4,3))\n",
    "for i in range (len(Hj)):\n",
    "    L2Erj[i]=L2_error(0,2,Hj[i])[0]\n",
    "print(\"Error SODE\", L2Erj[:,0])\n",
    "print(\"Error Ral\", L2Erj[:,1])\n",
    "print(\"Error Euler\", L2Erj[:,2])\n"
   ]
  },
  {
   "cell_type": "markdown",
   "id": "64b40f0d",
   "metadata": {},
   "source": [
    "7- For each method **Odeint**, **RalstonOdeSys** and **EulerOdeSys**, plot in the same graph $log(L2Er_j)$ vs $log(H_j)$."
   ]
  },
  {
   "cell_type": "code",
   "execution_count": 95,
   "id": "8ac7eb00",
   "metadata": {},
   "outputs": [
    {
     "data": {
      "image/png": "[encoded data removed]",
      "text/plain": [
       "<Figure size 432x288 with 1 Axes>"
      ]
     },
     "metadata": {
      "needs_background": "light"
     },
     "output_type": "display_data"
    }
   ],
   "source": [
    "plt.plot(np.log(Hj),np.log(L2Erj[:,0]),label='method SODE')\n",
    "plt.plot(np.log(Hj),np.log(L2Erj[:,1]),label='method Ralston')\n",
    "plt.plot(np.log(Hj),np.log(L2Erj[:,2]),label='method Euler')\n",
    "plt.xlabel('log(Hj)')\n",
    "plt.ylabel('log(L2Erj)')\n",
    "plt.legend()\n",
    "plt.show()"
   ]
  },
  {
   "cell_type": "markdown",
   "id": "7732222c",
   "metadata": {},
   "source": [
    "By assuming that $log(H_j)$ is the explanatory variable of $log(L2Er_j)$, complete the simple linear regression in the case of  **RalstonOdeSys**, **EulerOdeSys** and display the regression coeficient.\n",
    "\n",
    "Note: Use the whole data to train your linear model."
   ]
  },
  {
   "cell_type": "code",
   "execution_count": 96,
   "id": "37972d31",
   "metadata": {},
   "outputs": [
    {
     "name": "stdout",
     "output_type": "stream",
     "text": [
      "The regression coeficient \n",
      "alpha1 =  3.9711340462732156\n",
      "beta1 =  7.080027416158437\n",
      "alpha2 =  1.9520593672540327\n",
      "beta2 =  7.742124192676786\n"
     ]
    }
   ],
   "source": [
    "d={\"Hj\":np.log(Hj), \"Ralston\":np.log(L2Erj[:,1]), \"Euler\":np.log(L2Erj[:,2])}\n",
    "data=pd.DataFrame(d)\n",
    "data\n",
    "# Create linear regression object\n",
    "Single_lr1= LinearRegression()\n",
    "Single_lr2= LinearRegression()\n",
    "U=data.Hj.values.reshape(-1, 1) # independent variable\n",
    "V1=data.Ralston.values.flatten() # dependent variable\n",
    "V2=data.Euler.values.flatten() # dependent variable\n",
    "Single_lr1.fit(U, V1)\n",
    "Single_lr2.fit(U, V2)\n",
    "# get the value of alpha and beta\n",
    "alpha1 = Single_lr1.coef_\n",
    "beta1 = Single_lr1.intercept_\n",
    "alpha2 = Single_lr2.coef_\n",
    "beta2 = Single_lr2.intercept_\n",
    "# print the value of alpha and beta\n",
    "print(\"The regression coeficient \")\n",
    "print('alpha1 = ', alpha1[0])\n",
    "print('beta1 = ', beta1)\n",
    "print('alpha2 = ', alpha2[0])\n",
    "print('beta2 = ', beta2)"
   ]
  },
  {
   "cell_type": "markdown",
   "id": "330ea9b3",
   "metadata": {},
   "source": [
    "**Problem 6**\n",
    "\n",
    "1-The cost of admission to the world cup 2022 game is\n",
    "- 320 USD for 3 children, 1 female  and 1 male \n",
    "- 600 USD  for 4 females and 2 males \n",
    "- 600 USD  for 5 children, 2 females and 2 males \n",
    "\n",
    "Transform the problem into a system of equation (as markdown in the cell below)"
   ]
  },
  {
   "cell_type": "markdown",
   "id": "nuclear-passing",
   "metadata": {},
   "source": [
    "let's $x$ the number of children, $y$ the number of females and $z$ the number of males. We have:\n",
    "\\begin{equation}\n",
    "\\begin{cases}\n",
    "    3x+y+z= 320\\\\\n",
    "    4y+2z=600\\\\\n",
    "    5x+2y+2z=600\n",
    "\\end{cases}\n",
    "\\end{equation}\n",
    "\n"
   ]
  },
  {
   "cell_type": "markdown",
   "id": "2ad69a8a",
   "metadata": {},
   "source": [
    "2- Write a Python code to compute and display how much is the admission for each child, female and male?"
   ]
  },
  {
   "cell_type": "code",
   "execution_count": 97,
   "id": "298099ed",
   "metadata": {},
   "outputs": [
    {
     "name": "stdout",
     "output_type": "stream",
     "text": [
      "[ 40. 100. 100.]\n",
      "the admission for each child was:  39.99999999999996\n",
      "the admission for each females is:  99.99999999999989\n",
      "the admission for each males is:  100.00000000000021\n"
     ]
    }
   ],
   "source": [
    "\n",
    "A=np.array([[3,1,1],[0,4,2],[5,2,2]])\n",
    "b=np.array([320,600,600])\n",
    "S=np.linalg.solve(A,b)\n",
    "print(S)\n",
    "print(\"the admission for each child was: \",S[0])\n",
    "print(\"the admission for each females is: \",S[1])\n",
    "print(\"the admission for each males is: \",S[2])"
   ]
  },
  {
   "cell_type": "markdown",
   "id": "63d1154f",
   "metadata": {},
   "source": [
    "3- Using the Python in-built function fsolve with unitial guess $x=1, y=1$, write a Python code to solve the following system\n",
    "\n",
    "\\begin{equation}\n",
    "\\begin{cases}\n",
    "    e^{x^2} + x = sin(y)\\\\\n",
    "    2e^x + y = 3\n",
    "\\end{cases}\n",
    "\\end{equation}\n"
   ]
  },
  {
   "cell_type": "code",
   "execution_count": 98,
   "id": "c4167f17",
   "metadata": {},
   "outputs": [
    {
     "name": "stdout",
     "output_type": "stream",
     "text": [
      "x= -0.3793915333122747\n",
      "y= -5.395803917749443\n"
     ]
    }
   ],
   "source": [
    "def myfunction(z):\n",
    "    x=z[0]\n",
    "    y=z[1]\n",
    "    F=np.empty((2))\n",
    "    F[0]=np.exp(x**2)+x-np.sin(y)\n",
    "    F[1]=2*np.exp(x)+np.cos(y)-2\n",
    "    return F\n",
    "zGuess=np.array([1,1])\n",
    "z=fsolve(myfunction,zGuess)\n",
    "print(\"x=\",z[0])\n",
    "print(\"y=\",z[1])"
   ]
  },
  {
   "cell_type": "code",
   "execution_count": null,
   "id": "military-crazy",
   "metadata": {},
   "outputs": [],
   "source": []
  }
 ],
 "metadata": {
  "kernelspec": {
   "display_name": "Python 3",
   "language": "python",
   "name": "python3"
  },
  "language_info": {
   "codemirror_mode": {
    "name": "ipython",
    "version": 3
   },
   "file_extension": ".py",
   "mimetype": "text/x-python",
   "name": "python",
   "nbconvert_exporter": "python",
   "pygments_lexer": "ipython3",
   "version": "3.9.2"
  }
 },
 "nbformat": 4,
 "nbformat_minor": 5
}
